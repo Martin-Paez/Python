{
 "cells": [
  {
   "cell_type": "code",
   "execution_count": 76,
   "id": "4de92480",
   "metadata": {},
   "outputs": [],
   "source": [
    "import tensorflow as tf"
   ]
  },
  {
   "cell_type": "code",
   "execution_count": 82,
   "id": "4327be30",
   "metadata": {},
   "outputs": [],
   "source": [
    "x = tf.constant([[1., 4., 2.],\n",
    "                 [4., 6., 3.],\n",
    "                 [2., 3., 4.]])\n",
    "#x = tf.constant([[1., 2., 3.],\n",
    "#                 [4., 6., 5.]])"
   ]
  },
  {
   "cell_type": "code",
   "execution_count": 83,
   "id": "daebc852",
   "metadata": {},
   "outputs": [
    {
     "name": "stdout",
     "output_type": "stream",
     "text": [
      "\n",
      "x:\n",
      "[[1. 4. 2.]\n",
      " [4. 6. 3.]\n",
      " [2. 3. 4.]]\n",
      "\n",
      "tf.concat([x, x, x], axis=0):\n",
      " [[1. 4. 2.]\n",
      " [4. 6. 3.]\n",
      " [2. 3. 4.]\n",
      " [1. 4. 2.]\n",
      " [4. 6. 3.]\n",
      " [2. 3. 4.]\n",
      " [1. 4. 2.]\n",
      " [4. 6. 3.]\n",
      " [2. 3. 4.]]\n",
      "\n",
      "tf.concat([x, x, x], axis=1):\n",
      " [[1. 4. 2. 1. 4. 2. 1. 4. 2.]\n",
      " [4. 6. 3. 4. 6. 3. 4. 6. 3.]\n",
      " [2. 3. 4. 2. 3. 4. 2. 3. 4.]]\n"
     ]
    }
   ],
   "source": [
    "print(f'\\nx:\\n{x}')\n",
    "c0 = tf.concat([x, x, x], axis=0)\n",
    "print(f'\\ntf.concat([x, x, x], axis=0):\\n {c0}')\n",
    "c1 = tf.concat([x, x, x], axis=1)\n",
    "print(f'\\ntf.concat([x, x, x], axis=1):\\n {c1}')"
   ]
  },
  {
   "cell_type": "code",
   "execution_count": 84,
   "id": "7bc532f3",
   "metadata": {},
   "outputs": [
    {
     "name": "stdout",
     "output_type": "stream",
     "text": [
      "\n",
      "x:\n",
      "[[1. 4. 2.]\n",
      " [4. 6. 3.]\n",
      " [2. 3. 4.]]\n",
      "\n",
      "tf.reduce_sum(x):\n",
      " 29.0\n",
      "\n",
      "tf.reduce_sum(x[0]):\n",
      " 7.0\n"
     ]
    }
   ],
   "source": [
    "print(f'\\nx:\\n{x}')\n",
    "rt = tf.reduce_sum(x)\n",
    "print(f'\\ntf.reduce_sum(x):\\n {rt}')\n",
    "r0 = tf.reduce_sum(x[0])\n",
    "print(f'\\ntf.reduce_sum(x[0]):\\n {r0}')"
   ]
  },
  {
   "cell_type": "code",
   "execution_count": 85,
   "id": "802ff6a4",
   "metadata": {},
   "outputs": [
    {
     "name": "stdout",
     "output_type": "stream",
     "text": [
      "\n",
      "x:\n",
      "[[1. 4. 2.]\n",
      " [4. 6. 3.]\n",
      " [2. 3. 4.]]\n",
      "\n",
      "tf.nn.softmax(x, axis=1): \n",
      " [[0.04201007 0.8437947  0.11419519]\n",
      " [0.11419519 0.8437947  0.04201007]\n",
      " [0.09003057 0.24472848 0.66524094]]\n",
      "\n",
      "tf.reduce_sum(x[0]): 7.0\n",
      "\n",
      "tf.nn.softmax(x, axis=0):\n",
      " [[0.04201007 0.11419519 0.09003057]\n",
      " [0.8437947  0.8437947  0.24472848]\n",
      " [0.11419519 0.04201007 0.66524094]]\n",
      "\n",
      "tf.reduce_sum(tf.transpose(y)[0]): 1.0\n"
     ]
    }
   ],
   "source": [
    "print(f'\\nx:\\n{x}')\n",
    "s1 = tf.nn.softmax(x, axis=1)\n",
    "print(f'\\ntf.nn.softmax(x, axis=1): \\n {s1}')\n",
    "rx = tf.reduce_sum(x[0])\n",
    "print(f'\\ntf.reduce_sum(x[0]): {rx}')\n",
    "s0 = tf.nn.softmax(x, axis=0)\n",
    "print(f'\\ntf.nn.softmax(x, axis=0):\\n {s0}')\n",
    "rty = tf.reduce_sum(tf.transpose(y)[0])\n",
    "print(f'\\ntf.reduce_sum(tf.transpose(y)[0]): {rty}')"
   ]
  },
  {
   "cell_type": "code",
   "execution_count": null,
   "id": "66ff2790",
   "metadata": {},
   "outputs": [],
   "source": []
  },
  {
   "cell_type": "code",
   "execution_count": null,
   "id": "181d1076",
   "metadata": {},
   "outputs": [],
   "source": []
  },
  {
   "cell_type": "code",
   "execution_count": null,
   "id": "f3ec5d9b",
   "metadata": {},
   "outputs": [],
   "source": []
  }
 ],
 "metadata": {
  "kernelspec": {
   "display_name": "Python 3 (ipykernel)",
   "language": "python",
   "name": "python3"
  },
  "language_info": {
   "codemirror_mode": {
    "name": "ipython",
    "version": 3
   },
   "file_extension": ".py",
   "mimetype": "text/x-python",
   "name": "python",
   "nbconvert_exporter": "python",
   "pygments_lexer": "ipython3",
   "version": "3.9.13"
  }
 },
 "nbformat": 4,
 "nbformat_minor": 5
}
