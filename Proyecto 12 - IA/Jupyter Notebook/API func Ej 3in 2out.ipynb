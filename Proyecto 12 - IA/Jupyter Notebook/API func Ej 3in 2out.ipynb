{
 "cells": [
  {
   "cell_type": "markdown",
   "id": "0faf73ae",
   "metadata": {},
   "source": [
    "## Ejemplo, 3 entradas y 2 salidas\n",
    "Se necesita está creando un sistema para clasificar los tickets de emisión de los clientes por prioridad y enrutarlos al departamento correcto, el modelo tendrá tres entradas:\n",
    "\n",
    "el título del ticket (entrada de texto),\n",
    "el cuerpo del texto del ticket (entrada de texto), y\n",
    "cualquier etiqueta agregada por el usuario (entrada categórica)\n",
    "Este modelo tendrá dos salidas:\n",
    "\n",
    "la puntuación de prioridad entre 0 y 1 (salida sigmoidea escalar), y\n",
    "el departamento que debe manejar el ticket (salida softmax sobre el conjunto de departamentos)."
   ]
  },
  {
   "cell_type": "code",
   "execution_count": 3,
   "id": "fd8f6a40",
   "metadata": {},
   "outputs": [],
   "source": [
    "import numpy as np\n",
    "import tensorflow as tf\n",
    "from tensorflow import keras\n",
    "from tensorflow.keras import layers\n",
    "\n",
    "num_tags = 12 \n",
    "num_departments = 4 \n",
    "num_words = 10000  # Size of vocabulary obtained when preprocessing text data"
   ]
  },
  {
   "cell_type": "code",
   "execution_count": 4,
   "id": "ad3f9a5d",
   "metadata": {},
   "outputs": [],
   "source": [
    "title_input = keras.Input(shape=(None,), name=\"title\")  # Variable-length sequence of ints\n",
    "\n",
    "body_input = keras.Input(shape=(None,), name=\"body\")  \n",
    "\n",
    "tags_input = keras.Input(shape=(num_tags,), name=\"tags\") # Binary vectors of size `num_tags`"
   ]
  },
  {
   "cell_type": "code",
   "execution_count": 5,
   "id": "e761e2e3",
   "metadata": {},
   "outputs": [
    {
     "name": "stdout",
     "output_type": "stream",
     "text": [
      "KerasTensor(type_spec=TensorSpec(shape=(None, None), dtype=tf.float32, name='title'), name='title', description=\"created by layer 'title'\")\n"
     ]
    }
   ],
   "source": [
    "print(title_input)"
   ]
  },
  {
   "cell_type": "code",
   "execution_count": 9,
   "id": "e88f185c",
   "metadata": {},
   "outputs": [],
   "source": [
    "# Embed each word in the title into a 64-dimensional vector\n",
    "title_features = layers.Embedding(num_words, 64)(title_input) \n",
    "body_features = layers.Embedding(num_words, 64)(body_input)\n",
    "# Reduce sequence of embedded words in the body into a single 32-dimensional vector\n",
    "title_features = layers.LSTM(128)(title_features) \n",
    "body_features = layers.LSTM(32)(body_features)\n",
    "# Merge all available features into a single large vector via concatenation\n",
    "x = layers.concatenate([title_features, body_features, tags_input])"
   ]
  },
  {
   "cell_type": "code",
   "execution_count": 13,
   "id": "3e8e313e",
   "metadata": {},
   "outputs": [],
   "source": [
    "# Stick a logistic regression for priority prediction on top of the features\n",
    "priority_pred = layers.Dense(1, name=\"priority\")(x)\n",
    "# Stick a department classifier on top of the features\n",
    "department_pred = layers.Dense(num_departments, name=\"department\")(x)"
   ]
  },
  {
   "cell_type": "code",
   "execution_count": 14,
   "id": "5f3fed10",
   "metadata": {},
   "outputs": [
    {
     "name": "stdout",
     "output_type": "stream",
     "text": [
      "KerasTensor(type_spec=TensorSpec(shape=(None, 1), dtype=tf.float32, name=None), name='priority/BiasAdd:0', description=\"created by layer 'priority'\")\n",
      "KerasTensor(type_spec=TensorSpec(shape=(None, 4), dtype=tf.float32, name=None), name='department/BiasAdd:0', description=\"created by layer 'department'\")\n"
     ]
    }
   ],
   "source": [
    "print(priority_pred)\n",
    "print(department_pred)"
   ]
  },
  {
   "cell_type": "code",
   "execution_count": 15,
   "id": "a4d8abb0",
   "metadata": {},
   "outputs": [],
   "source": [
    "model = keras.Model(\n",
    "    inputs=[title_input, body_input, tags_input],\n",
    "    outputs=[priority_pred, department_pred],\n",
    ")"
   ]
  },
  {
   "cell_type": "code",
   "execution_count": 16,
   "id": "d5521270",
   "metadata": {},
   "outputs": [],
   "source": [
    "model.compile(\n",
    "    optimizer=keras.optimizers.RMSprop(1e-3),\n",
    "    loss=[\n",
    "        keras.losses.BinaryCrossentropy(from_logits=True),\n",
    "        keras.losses.CategoricalCrossentropy(from_logits=True),\n",
    "    ],\n",
    "    loss_weights=[1.0, 0.2],\n",
    ")"
   ]
  },
  {
   "cell_type": "code",
   "execution_count": 17,
   "id": "32449e4f",
   "metadata": {},
   "outputs": [],
   "source": [
    "model.compile(\n",
    "    optimizer=keras.optimizers.RMSprop(1e-3),\n",
    "    loss={\n",
    "        \"priority\": keras.losses.BinaryCrossentropy(from_logits=True),\n",
    "        \"department\": keras.losses.CategoricalCrossentropy(from_logits=True),\n",
    "    },\n",
    "    loss_weights={\"priority\": 1.0, \"department\": 0.2},\n",
    ")"
   ]
  },
  {
   "cell_type": "code",
   "execution_count": 18,
   "id": "d160a9df",
   "metadata": {},
   "outputs": [],
   "source": [
    "# Simular valores de entradas\n",
    "title_data = np.random.randint(num_words, size=(1280, 10))\n",
    "body_data = np.random.randint(num_words, size=(1280, 100))\n",
    "tags_data = np.random.randint(2, size=(1280, num_tags)).astype(\"float32\")"
   ]
  },
  {
   "cell_type": "code",
   "execution_count": 21,
   "id": "7573d676",
   "metadata": {},
   "outputs": [],
   "source": [
    "# Simular respuestas validas\n",
    "priority_targets = np.random.random(size=(1280, 1))\n",
    "dept_targets = np.random.randint(2, size=(1280, num_departments))"
   ]
  },
  {
   "cell_type": "code",
   "execution_count": 22,
   "id": "c6838557",
   "metadata": {},
   "outputs": [
    {
     "name": "stdout",
     "output_type": "stream",
     "text": [
      "Epoch 1/2\n",
      "40/40 [==============================] - 3s 19ms/step - loss: 1.2838 - priority_loss: 0.6997 - department_loss: 2.9209\n",
      "Epoch 2/2\n",
      "40/40 [==============================] - 1s 18ms/step - loss: 1.3030 - priority_loss: 0.6959 - department_loss: 3.0352\n"
     ]
    },
    {
     "data": {
      "text/plain": [
       "<keras.callbacks.History at 0x1d11e72e2f0>"
      ]
     },
     "execution_count": 22,
     "metadata": {},
     "output_type": "execute_result"
    }
   ],
   "source": [
    "model.fit(\n",
    "    {\"title\": title_data, \"body\": body_data, \"tags\": tags_data},\n",
    "    {\"priority\": priority_targets, \"department\": dept_targets},\n",
    "    epochs=2,\n",
    "    batch_size=32,\n",
    ")"
   ]
  },
  {
   "cell_type": "code",
   "execution_count": null,
   "id": "1b7d3ace",
   "metadata": {},
   "outputs": [],
   "source": []
  },
  {
   "cell_type": "code",
   "execution_count": null,
   "id": "7da277d3",
   "metadata": {},
   "outputs": [],
   "source": []
  },
  {
   "cell_type": "code",
   "execution_count": 10,
   "id": "fc42a6c1",
   "metadata": {},
   "outputs": [],
   "source": []
  },
  {
   "cell_type": "code",
   "execution_count": null,
   "id": "72a35d52",
   "metadata": {},
   "outputs": [],
   "source": []
  },
  {
   "cell_type": "code",
   "execution_count": null,
   "id": "05a12678",
   "metadata": {},
   "outputs": [],
   "source": []
  },
  {
   "cell_type": "code",
   "execution_count": null,
   "id": "253ca21e",
   "metadata": {},
   "outputs": [],
   "source": []
  }
 ],
 "metadata": {
  "kernelspec": {
   "display_name": "Python 3 (ipykernel)",
   "language": "python",
   "name": "python3"
  },
  "language_info": {
   "codemirror_mode": {
    "name": "ipython",
    "version": 3
   },
   "file_extension": ".py",
   "mimetype": "text/x-python",
   "name": "python",
   "nbconvert_exporter": "python",
   "pygments_lexer": "ipython3",
   "version": "3.10.9"
  }
 },
 "nbformat": 4,
 "nbformat_minor": 5
}
