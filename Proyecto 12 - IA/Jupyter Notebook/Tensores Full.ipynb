{
 "cells": [
  {
   "cell_type": "code",
   "execution_count": 203,
   "id": "18214d9d",
   "metadata": {},
   "outputs": [],
   "source": [
    "import tensorflow as tf\n",
    "import numpy as np"
   ]
  },
  {
   "attachments": {
    "shape2.png": {
     "image/png": "[encoded data removed]"
    }
   },
   "cell_type": "markdown",
   "id": "5957e673",
   "metadata": {},
   "source": [
    "**Convención, orden de los ejes:**![shape2.png](attachment:shape2.png)"
   ]
  },
  {
   "cell_type": "markdown",
   "id": "f697bf17",
   "metadata": {},
   "source": [
    "**Los tensores son constantes de tipo uniforme (DType):**"
   ]
  },
  {
   "cell_type": "code",
   "execution_count": 248,
   "id": "4c129418",
   "metadata": {
    "scrolled": true
   },
   "outputs": [
    {
     "name": "stdout",
     "output_type": "stream",
     "text": [
      "()\n",
      "<dtype: 'int32'>\n"
     ]
    }
   ],
   "source": [
    "x = tf.constant(1)\n",
    "print(x.shape)\n",
    "print(x.dtype)"
   ]
  },
  {
   "cell_type": "code",
   "execution_count": 205,
   "id": "01ed33e3",
   "metadata": {},
   "outputs": [
    {
     "name": "stdout",
     "output_type": "stream",
     "text": [
      "(2,)\n"
     ]
    }
   ],
   "source": [
    "x = tf.constant([1., 2.])\n",
    "print(x.shape)"
   ]
  },
  {
   "cell_type": "code",
   "execution_count": 206,
   "id": "b4ba4ad7",
   "metadata": {},
   "outputs": [
    {
     "name": "stdout",
     "output_type": "stream",
     "text": [
      "tf.Tensor(\n",
      "[[1. 2.]\n",
      " [2. 1.]], shape=(2, 2), dtype=float32)\n"
     ]
    }
   ],
   "source": [
    "x = tf.constant([[1., 2.],\n",
    "                 [2., 1.]])\n",
    "print(x)"
   ]
  },
  {
   "cell_type": "markdown",
   "id": "620b5fb1",
   "metadata": {},
   "source": [
    "**Se pueden convertir a numpy:**"
   ]
  },
  {
   "cell_type": "code",
   "execution_count": 207,
   "id": "67684add",
   "metadata": {},
   "outputs": [
    {
     "name": "stdout",
     "output_type": "stream",
     "text": [
      "\n",
      "Se imprime limpio:\n",
      "\n",
      "[[1. 2.]\n",
      " [2. 1.]]\n",
      "\n"
     ]
    }
   ],
   "source": [
    "print(f'\\nSe imprime limpio:\\n\\n{x.numpy()}\\n')"
   ]
  },
  {
   "cell_type": "code",
   "execution_count": 208,
   "id": "8abe405f",
   "metadata": {},
   "outputs": [
    {
     "data": {
      "text/plain": [
       "array([[ True,  True],\n",
       "       [ True,  True]])"
      ]
     },
     "execution_count": 208,
     "metadata": {},
     "output_type": "execute_result"
    }
   ],
   "source": [
    "np.array(x) == x.numpy()"
   ]
  },
  {
   "cell_type": "markdown",
   "id": "3dbaeb51",
   "metadata": {},
   "source": [
    "**Operaciones con matrices:**"
   ]
  },
  {
   "cell_type": "code",
   "execution_count": 209,
   "id": "6e4d8b14",
   "metadata": {},
   "outputs": [
    {
     "name": "stdout",
     "output_type": "stream",
     "text": [
      "[[1. 2.]\n",
      " [2. 1.]]\n"
     ]
    }
   ],
   "source": [
    "print(x.numpy())"
   ]
  },
  {
   "cell_type": "code",
   "execution_count": 214,
   "id": "50f61093",
   "metadata": {},
   "outputs": [
    {
     "name": "stdout",
     "output_type": "stream",
     "text": [
      "[[2. 4.]\n",
      " [4. 2.]]\n",
      "[[ True  True]\n",
      " [ True  True]]\n"
     ]
    }
   ],
   "source": [
    "print((2 * x).numpy())\n",
    "a = tf.multiply(x, 2)==x*2\n",
    "print(a.numpy())"
   ]
  },
  {
   "cell_type": "code",
   "execution_count": 215,
   "id": "92a2e26f",
   "metadata": {},
   "outputs": [
    {
     "name": "stdout",
     "output_type": "stream",
     "text": [
      "[[2. 4.]\n",
      " [4. 2.]]\n"
     ]
    }
   ],
   "source": [
    "print((x + x).numpy())"
   ]
  },
  {
   "cell_type": "code",
   "execution_count": 216,
   "id": "09bb2f77",
   "metadata": {},
   "outputs": [
    {
     "name": "stdout",
     "output_type": "stream",
     "text": [
      "[[1. 1.]\n",
      " [1. 1.]]\n"
     ]
    }
   ],
   "source": [
    "print((x / x).numpy())"
   ]
  },
  {
   "cell_type": "code",
   "execution_count": 217,
   "id": "19464438",
   "metadata": {},
   "outputs": [
    {
     "name": "stdout",
     "output_type": "stream",
     "text": [
      "[[1. 4.]\n",
      " [4. 1.]]\n"
     ]
    }
   ],
   "source": [
    "print((x * x).numpy())"
   ]
  },
  {
   "cell_type": "code",
   "execution_count": 218,
   "id": "df2804b4",
   "metadata": {},
   "outputs": [
    {
     "name": "stdout",
     "output_type": "stream",
     "text": [
      "[[5. 4.]\n",
      " [4. 5.]]\n"
     ]
    }
   ],
   "source": [
    "print((x @ x).numpy())"
   ]
  },
  {
   "cell_type": "markdown",
   "id": "c6459a48",
   "metadata": {},
   "source": [
    "**Funciones de agregación:**"
   ]
  },
  {
   "cell_type": "code",
   "execution_count": 219,
   "id": "429c2346",
   "metadata": {},
   "outputs": [
    {
     "name": "stdout",
     "output_type": "stream",
     "text": [
      "2.0\n"
     ]
    }
   ],
   "source": [
    "print(tf.reduce_max(x).numpy())"
   ]
  },
  {
   "cell_type": "code",
   "execution_count": 220,
   "id": "c4a91b24",
   "metadata": {},
   "outputs": [
    {
     "name": "stdout",
     "output_type": "stream",
     "text": [
      "[1 0]\n"
     ]
    }
   ],
   "source": [
    "print(tf.argmax(x).numpy())"
   ]
  },
  {
   "cell_type": "code",
   "execution_count": 221,
   "id": "7530cc56",
   "metadata": {},
   "outputs": [
    {
     "name": "stdout",
     "output_type": "stream",
     "text": [
      "[[0.26894143 0.7310586 ]\n",
      " [0.7310586  0.26894143]]\n"
     ]
    }
   ],
   "source": [
    "print(tf.nn.softmax(x).numpy())"
   ]
  },
  {
   "cell_type": "markdown",
   "id": "f7397173",
   "metadata": {},
   "source": [
    "**Indexación:**"
   ]
  },
  {
   "cell_type": "code",
   "execution_count": 222,
   "id": "5288211a",
   "metadata": {},
   "outputs": [],
   "source": [
    "x = tf.constant([[1, 2, 3], [4, 5, 6], [7, 8, 9]])"
   ]
  },
  {
   "cell_type": "code",
   "execution_count": 223,
   "id": "cda1d0f8",
   "metadata": {
    "scrolled": true
   },
   "outputs": [
    {
     "name": "stdout",
     "output_type": "stream",
     "text": [
      "\n",
      " [[7 8 9]\n",
      " [1 2 3]]\n",
      "\n",
      "Cada elemento considerado es un vector (No se usan comas)\n",
      "Se consideran todos los elementos (::)\n",
      "Paso = 2 (salteando un elemento en cada paso)\n",
      "Orden inverso (negativo)\n",
      "\n"
     ]
    }
   ],
   "source": [
    "print('\\n', x[::-2].numpy())\n",
    "print('\\nCada elemento considerado es un vector (No se usan comas)\\nSe consideran todos los elementos (::)\\nPaso = 2 (salteando un elemento en cada paso)\\nOrden inverso (negativo)\\n')"
   ]
  },
  {
   "cell_type": "code",
   "execution_count": 224,
   "id": "47b7b2e6",
   "metadata": {},
   "outputs": [
    {
     "name": "stdout",
     "output_type": "stream",
     "text": [
      "[[4 5 6]\n",
      " [7 8 9]]\n"
     ]
    }
   ],
   "source": [
    "print(x[1:, :].numpy())"
   ]
  },
  {
   "cell_type": "code",
   "execution_count": 225,
   "id": "636109ed",
   "metadata": {},
   "outputs": [
    {
     "name": "stdout",
     "output_type": "stream",
     "text": [
      "[[[1 2]\n",
      "  [3 4]]\n",
      "\n",
      " [[5 6]\n",
      "  [7 8]]]\n"
     ]
    }
   ],
   "source": [
    "x = tf.constant([\n",
    "                 [ [1, 2], [3, 4] ],\n",
    "                 [ [5, 6], [7, 8] ]\n",
    "                ])\n",
    "print(x.numpy())"
   ]
  },
  {
   "cell_type": "code",
   "execution_count": 226,
   "id": "26b49351",
   "metadata": {},
   "outputs": [
    {
     "name": "stdout",
     "output_type": "stream",
     "text": [
      "[[2 4]\n",
      " [6 8]]\n"
     ]
    }
   ],
   "source": [
    "print(x[:, :, 1].numpy())"
   ]
  },
  {
   "cell_type": "code",
   "execution_count": 227,
   "id": "9155447b",
   "metadata": {},
   "outputs": [
    {
     "name": "stdout",
     "output_type": "stream",
     "text": [
      "[[1 2]\n",
      " [3 4]]\n"
     ]
    }
   ],
   "source": [
    "n_batch = 0\n",
    "print(x[n_batch, :, :].numpy())"
   ]
  },
  {
   "cell_type": "markdown",
   "id": "8af6a6d3",
   "metadata": {},
   "source": [
    "**Reshape:**\n",
    "\n",
    "Los datos permanecen igual en memoria. Abstracción simil C"
   ]
  },
  {
   "cell_type": "code",
   "execution_count": 228,
   "id": "258b3fd5",
   "metadata": {},
   "outputs": [],
   "source": [
    "x = [\n",
    "        [\n",
    "            [ 0, 1, 2, 3, 4],\n",
    "            [ 5, 6, 7, 8, 9]\n",
    "        ],[\n",
    "            [10, 11, 12, 13, 14],\n",
    "            [15, 16, 17, 18, 19]\n",
    "        ],[\n",
    "            [20, 21, 22, 23, 24],\n",
    "            [25, 26, 27, 28, 29]\n",
    "        ]\n",
    "    ]"
   ]
  },
  {
   "attachments": {
    "reshape-before.png": {
     "image/png": "[encoded data removed]"
    }
   },
   "cell_type": "markdown",
   "id": "807c3567",
   "metadata": {},
   "source": [
    "![reshape-before.png](attachment:reshape-before.png)"
   ]
  },
  {
   "cell_type": "code",
   "execution_count": 229,
   "id": "8bebca0f",
   "metadata": {},
   "outputs": [
    {
     "name": "stdout",
     "output_type": "stream",
     "text": [
      "[ 0  1  2  3  4  5  6  7  8  9 10 11 12 13 14 15 16 17 18 19 20 21 22 23\n",
      " 24 25 26 27 28 29]\n"
     ]
    }
   ],
   "source": [
    "print(tf.reshape(x, [-1]).numpy())"
   ]
  },
  {
   "cell_type": "code",
   "execution_count": 230,
   "id": "f76409c0",
   "metadata": {},
   "outputs": [
    {
     "name": "stdout",
     "output_type": "stream",
     "text": [
      "[ 0  1  2  3  4  5  6  7  8  9 10 11 12 13 14 15 16 17 18 19 20 21 22 23\n",
      " 24 25 26 27 28 29] \n",
      "\n"
     ]
    }
   ],
   "source": [
    "print(tf.reshape(x, [30]).numpy(), '\\n')"
   ]
  },
  {
   "attachments": {
    "reshape-bad2.png": {
     "image/png": "[encoded data removed]"
    }
   },
   "cell_type": "markdown",
   "id": "7bb363cd",
   "metadata": {},
   "source": [
    "La siguiente operación NO esta permitida, la última fila no tiene elementos suficientes.\n",
    "![reshape-bad2.png](attachment:reshape-bad2.png)"
   ]
  },
  {
   "cell_type": "markdown",
   "id": "80841aa0",
   "metadata": {},
   "source": [
    "Estos serian formateos considerados conceptualmente validos."
   ]
  },
  {
   "attachments": {
    "mtm.png": {
     "image/png": "[encoded data removed]"
    }
   },
   "cell_type": "markdown",
   "id": "123850f5",
   "metadata": {},
   "source": [
    "![mtm.png](attachment:mtm.png)"
   ]
  },
  {
   "cell_type": "code",
   "execution_count": 231,
   "id": "38390ed6",
   "metadata": {},
   "outputs": [
    {
     "name": "stdout",
     "output_type": "stream",
     "text": [
      "[[ 0  1  2  3  4]\n",
      " [ 5  6  7  8  9]\n",
      " [10 11 12 13 14]\n",
      " [15 16 17 18 19]\n",
      " [20 21 22 23 24]\n",
      " [25 26 27 28 29]]\n"
     ]
    }
   ],
   "source": [
    "print(tf.reshape(x, [6,int(30/6)]).numpy())"
   ]
  },
  {
   "cell_type": "markdown",
   "id": "086eab5f",
   "metadata": {},
   "source": [
    "La siguiente operación ESTA permitida, pero, segun el caso, hay que evaluar que la informacion no pierda sentido:"
   ]
  },
  {
   "cell_type": "code",
   "execution_count": 232,
   "id": "33c2a793",
   "metadata": {},
   "outputs": [
    {
     "name": "stdout",
     "output_type": "stream",
     "text": [
      "[[ 0  1  2  3  4  5]\n",
      " [ 6  7  8  9 10 11]\n",
      " [12 13 14 15 16 17]\n",
      " [18 19 20 21 22 23]\n",
      " [24 25 26 27 28 29]]\n"
     ]
    }
   ],
   "source": [
    "print(tf.reshape(x, [5,int(30/5)]).numpy())"
   ]
  },
  {
   "attachments": {
    "reshape-bad.png": {
     "image/png": "[encoded data removed]"
    }
   },
   "cell_type": "markdown",
   "id": "1123997b",
   "metadata": {},
   "source": [
    "![reshape-bad.png](attachment:reshape-bad.png)"
   ]
  },
  {
   "cell_type": "markdown",
   "id": "d982a93d",
   "metadata": {},
   "source": [
    "**Casteos:**"
   ]
  },
  {
   "cell_type": "code",
   "execution_count": 233,
   "id": "5f39dc2e",
   "metadata": {},
   "outputs": [
    {
     "data": {
      "text/plain": [
       "tf.uint8"
      ]
     },
     "execution_count": 233,
     "metadata": {},
     "output_type": "execute_result"
    }
   ],
   "source": [
    "tf.cast(x, dtype=tf.uint8).dtype"
   ]
  },
  {
   "cell_type": "markdown",
   "id": "9f28415c",
   "metadata": {},
   "source": [
    "**Crear tensores:**"
   ]
  },
  {
   "cell_type": "code",
   "execution_count": 234,
   "id": "9ddce500",
   "metadata": {},
   "outputs": [
    {
     "name": "stdout",
     "output_type": "stream",
     "text": [
      "[[0. 0.]\n",
      " [0. 0.]]\n"
     ]
    }
   ],
   "source": [
    "print(tf.zeros([2,2]).numpy())"
   ]
  },
  {
   "cell_type": "code",
   "execution_count": 249,
   "id": "267b00f5",
   "metadata": {},
   "outputs": [
    {
     "data": {
      "text/plain": [
       "array([1, 2, 3, 4])"
      ]
     },
     "execution_count": 249,
     "metadata": {},
     "output_type": "execute_result"
    }
   ],
   "source": [
    "print(tf.range(1,5).numpy())"
   ]
  },
  {
   "cell_type": "code",
   "execution_count": 255,
   "id": "f38dcc01",
   "metadata": {},
   "outputs": [
    {
     "name": "stdout",
     "output_type": "stream",
     "text": [
      "[-2.  -1.2 -0.4  0.4  1.2  2. ]\n"
     ]
    }
   ],
   "source": [
    "print(tf.linspace(-2, 2, 6).numpy())"
   ]
  },
  {
   "cell_type": "code",
   "execution_count": 260,
   "id": "5fd54f10",
   "metadata": {},
   "outputs": [
    {
     "name": "stdout",
     "output_type": "stream",
     "text": [
      "[-0.57251096  0.7915243   1.0727878   1.214617    0.4214903 ]\n"
     ]
    }
   ],
   "source": [
    "print(tf.random.uniform([5], minval=-1, maxval=2, dtype=tf.float32).numpy())"
   ]
  },
  {
   "cell_type": "code",
   "execution_count": 262,
   "id": "e37c276b",
   "metadata": {},
   "outputs": [
    {
     "name": "stdout",
     "output_type": "stream",
     "text": [
      "[ 0.44439477  0.56404626  1.8371512   0.31992275 -1.9766159 ]\n"
     ]
    }
   ],
   "source": [
    "print(tf.random.normal(shape=[5], mean=0, stddev=1).numpy())"
   ]
  },
  {
   "cell_type": "markdown",
   "id": "2903f4bd",
   "metadata": {},
   "source": [
    "**Transmisión:**\n",
    "\n",
    "Son eficientes, no se materializan en memoria"
   ]
  },
  {
   "cell_type": "code",
   "execution_count": 236,
   "id": "f29e75c7",
   "metadata": {},
   "outputs": [
    {
     "name": "stdout",
     "output_type": "stream",
     "text": [
      "tf.Tensor([ True  True  True], shape=(3,), dtype=bool)\n"
     ]
    }
   ],
   "source": [
    "a = tf.constant([1, 2, 3])\n",
    "b = tf.constant(2) # se estira automaticamente\n",
    "c = tf.constant([2, 2, 2])\n",
    "print(a * b == a * c)"
   ]
  },
  {
   "cell_type": "code",
   "execution_count": 247,
   "id": "c7eabcf0",
   "metadata": {},
   "outputs": [
    {
     "name": "stdout",
     "output_type": "stream",
     "text": [
      "(3, 1) * (4,) \n",
      "\n",
      "[[ 1  2  3  4]\n",
      " [ 2  4  6  8]\n",
      " [ 3  6  9 12]]\n"
     ]
    }
   ],
   "source": [
    "a = tf.reshape(a,[3,1])\n",
    "b = tf.range(1, 5)\n",
    "# (4,) se estira a (1,4) automaticamente. No es necesario b = tf.reshape(b,[1,4])\n",
    "print(a.shape, \"*\", b.shape, \"\\n\")\n",
    "print((a * b).numpy())"
   ]
  },
  {
   "cell_type": "markdown",
   "id": "5878dc07",
   "metadata": {},
   "source": [
    "**Convercion automatica a tensor:**\n",
    "\n",
    "Muchas funciones que reciven un tf.Tensor, tambien aceptan similares, tales como: ndarray de NumPy, TensorShape , listas de Python y tf.Variable\n",
    "\n",
    "Usan tf.convert_to_tensor"
   ]
  },
  {
   "cell_type": "code",
   "execution_count": null,
   "id": "61bb3a54",
   "metadata": {},
   "outputs": [],
   "source": []
  },
  {
   "cell_type": "code",
   "execution_count": null,
   "id": "de7a5d32",
   "metadata": {},
   "outputs": [],
   "source": []
  },
  {
   "cell_type": "code",
   "execution_count": null,
   "id": "172d0927",
   "metadata": {},
   "outputs": [],
   "source": []
  }
 ],
 "metadata": {
  "kernelspec": {
   "display_name": "Python 3 (ipykernel)",
   "language": "python",
   "name": "python3"
  },
  "language_info": {
   "codemirror_mode": {
    "name": "ipython",
    "version": 3
   },
   "file_extension": ".py",
   "mimetype": "text/x-python",
   "name": "python",
   "nbconvert_exporter": "python",
   "pygments_lexer": "ipython3",
   "version": "3.9.13"
  }
 },
 "nbformat": 4,
 "nbformat_minor": 5
}
